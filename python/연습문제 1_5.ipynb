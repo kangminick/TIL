{
 "cells": [
  {
   "cell_type": "code",
   "execution_count": 5,
   "metadata": {},
   "outputs": [
    {
     "name": "stdout",
     "output_type": "stream",
     "text": [
      "가을 + GREEN\n"
     ]
    }
   ],
   "source": [
    "season = ['봄', '여름', '가을', '겨울']\n",
    "color = ['RED','GREEN','BLUE']\n",
    "\n",
    "join = season[2] + \" + \"+ color[1]\n",
    "print(join)"
   ]
  },
  {
   "cell_type": "code",
   "execution_count": 23,
   "metadata": {
    "scrolled": true
   },
   "outputs": [
    {
     "name": "stdout",
     "output_type": "stream",
     "text": [
      "[ggoreb]신림동/둔산동\n"
     ]
    }
   ],
   "source": [
    "person = [\n",
    "    'ggoreb',\n",
    "    20,\n",
    "    ['서울', '관악구', '신림동'],\n",
    "    ['대전', '서구', '둔산동']\n",
    "]\n",
    "data =  '[' + person[0] + ']' + person[-2][-1] + '/' + person[-1][-1]\n",
    "print(data)"
   ]
  },
  {
   "cell_type": "code",
   "execution_count": 33,
   "metadata": {},
   "outputs": [
    {
     "name": "stdout",
     "output_type": "stream",
     "text": [
      "ggoreb 20\n"
     ]
    }
   ],
   "source": [
    "person = [\n",
    "    'ggoreb',\n",
    "    20,\n",
    "    ['서울', '관악구', '신림동'],\n",
    "    ['대전', '서구', '둔산동']\n",
    "]\n",
    "data =  person[0] + ' '+ str(person[1])\n",
    "print(data)"
   ]
  }
 ],
 "metadata": {
  "kernelspec": {
   "display_name": "Python 3",
   "language": "python",
   "name": "python3"
  },
  "language_info": {
   "codemirror_mode": {
    "name": "ipython",
    "version": 3
   },
   "file_extension": ".py",
   "mimetype": "text/x-python",
   "name": "python",
   "nbconvert_exporter": "python",
   "pygments_lexer": "ipython3",
   "version": "3.7.4"
  }
 },
 "nbformat": 4,
 "nbformat_minor": 2
}
