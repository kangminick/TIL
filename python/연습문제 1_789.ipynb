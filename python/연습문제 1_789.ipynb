{
 "cells": [
  {
   "cell_type": "code",
   "execution_count": 8,
   "metadata": {},
   "outputs": [
    {
     "name": "stdout",
     "output_type": "stream",
     "text": [
      "['열혈강호', '용비불패']\n",
      "['열혈강호', '고수', '용비불패']\n"
     ]
    }
   ],
   "source": [
    "# 7-1 리스트 요소 삭제하기\n",
    "list1 = ['원피스', '나루토', '열혈강호', '용비불패', '드래곤볼']\n",
    "# 코드 작성\n",
    "list1.remove('원피스')\n",
    "list1.remove('나루토')\n",
    "list1.pop()\n",
    "print(list1)\n",
    "# 7-2 리스트 요소 삽입하기 (insert)\n",
    "list1.insert(1,'고수')\n",
    "# 코드 작성\n",
    "print(list1)"
   ]
  },
  {
   "cell_type": "code",
   "execution_count": 9,
   "metadata": {},
   "outputs": [
    {
     "name": "stdout",
     "output_type": "stream",
     "text": [
      "['원피스', '보루토', '열혈강호', '용비불패', '드래곤볼']\n"
     ]
    }
   ],
   "source": [
    "# 7-3 리스트 요소 수정\n",
    "list2 = ['원피스', '나루토', '열혈강호', '용비불패', '드래곤볼']\n",
    "# 코드 작성\n",
    "list2[1] = '보루토'\n",
    "print(list2)"
   ]
  },
  {
   "cell_type": "code",
   "execution_count": 10,
   "metadata": {},
   "outputs": [
    {
     "name": "stdout",
     "output_type": "stream",
     "text": [
      "(3,)\n"
     ]
    }
   ],
   "source": [
    "# 8-1 숫자 3만을 요소로 가지는 튜플 생성\n",
    "tuple1=(3,)\n",
    "print(tuple1)"
   ]
  },
  {
   "cell_type": "code",
   "execution_count": 14,
   "metadata": {},
   "outputs": [
    {
     "name": "stdout",
     "output_type": "stream",
     "text": [
      "('a', 'b', 'c', '가')\n"
     ]
    }
   ],
   "source": [
    "tuple2 = ('a', 'b', 'c')\n",
    "# 코드 작성\n",
    "tuple2 += ('가',)\n",
    "print(tuple2)"
   ]
  },
  {
   "cell_type": "code",
   "execution_count": 18,
   "metadata": {},
   "outputs": [
    {
     "name": "stdout",
     "output_type": "stream",
     "text": [
      "{'서울': '02', '대전': '042', '부산': '051', '광주': '062', '제주': '064'}\n",
      "dict_keys(['서울', '대전', '부산', '광주', '제주'])\n",
      "dict_values(['02', '042', '051', '062', '064'])\n"
     ]
    }
   ],
   "source": [
    "# 9-1 딕셔너리 생성\n",
    "number = {'서울':'02', '대전':'042', '부산':'051', '광주':'062', '제주':'064'}\n",
    "print(number)\n",
    "\n",
    "key_list = number.keys()\n",
    "print(key_list)\n",
    "\n",
    "value_list = number.values()\n",
    "print(value_list)"
   ]
  }
 ],
 "metadata": {
  "kernelspec": {
   "display_name": "Python 3",
   "language": "python",
   "name": "python3"
  },
  "language_info": {
   "codemirror_mode": {
    "name": "ipython",
    "version": 3
   },
   "file_extension": ".py",
   "mimetype": "text/x-python",
   "name": "python",
   "nbconvert_exporter": "python",
   "pygments_lexer": "ipython3",
   "version": "3.7.4"
  }
 },
 "nbformat": 4,
 "nbformat_minor": 2
}
