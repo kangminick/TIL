{
 "cells": [
  {
   "cell_type": "code",
   "execution_count": 4,
   "metadata": {},
   "outputs": [
    {
     "name": "stdout",
     "output_type": "stream",
     "text": [
      "[('서울', '02'), ('대전', '042'), ('부산', '051'), ('광주', '062'), ('제주', '064')]\n",
      "051\n",
      "False\n"
     ]
    }
   ],
   "source": [
    "# 10-1 딕셔너리의 key, value를 튜플 리스트로 변경\n",
    "\n",
    "number = {'서울':'02', '대전':'042', '부산':'051', '광주':'062', '제주':'064'}\n",
    "t_list = list(number.items())\n",
    "print(t_list)\n",
    "\n",
    "# 10-2  '부산'에 해당하는 value 출력\n",
    "busan = number['부산']\n",
    "print(busan)\n",
    "\n",
    "# 10-3 리스트 요소 중에서 '천안'이라는 key가 있는지 확인\n",
    "is_exist = '천안' in number\n",
    "print(is_exist)"
   ]
  },
  {
   "cell_type": "code",
   "execution_count": 6,
   "metadata": {},
   "outputs": [
    {
     "name": "stdout",
     "output_type": "stream",
     "text": [
      "{1, 4, 10, 12, 45, 28}\n",
      "[7, 9, 11, 15, 26]\n"
     ]
    }
   ],
   "source": [
    "# 11-1 집합 생성\n",
    "lotto_set = {1, 4, 10, 12, 28, 45}\n",
    "\n",
    "print(lotto_set)\n",
    "# 11-2 리스트 요소 중 중복 데이터를 제거하여 아래와 같이 출력\n",
    "num_list = [9, 7, 11, 26, 15, 9, 15, 26]\n",
    "# 코드 작성\n",
    "a_set = set(num_list)\n",
    "new_list = list(a_set)\n",
    "print(new_list)"
   ]
  },
  {
   "cell_type": "code",
   "execution_count": 11,
   "metadata": {},
   "outputs": [
    {
     "name": "stdout",
     "output_type": "stream",
     "text": [
      "{'python', 'django', 'java'}\n",
      "{34, 12, 6}\n"
     ]
    }
   ],
   "source": [
    "# 12-1 집합의 요소를 추가 및 삭제하여 아래와 같이 출력\n",
    "str_set = {'python', 'java', 'jsp'}\n",
    "# 코드 작성\n",
    "str_set.remove('jsp')\n",
    "str_set.add('django')\n",
    "print(str_set)\n",
    "\n",
    "# 12-2 두 개의 집합에서 공통 요소만 출력(교집합)\n",
    "lotto_num1 = {6, 12, 17, 21, 34, 37}\n",
    "lotto_num2 = {6, 12, 19, 24, 34, 41}\n",
    "# 코드 작성\n",
    "new_set = lotto_num1 & lotto_num2\n",
    "print(new_set)"
   ]
  }
 ],
 "metadata": {
  "kernelspec": {
   "display_name": "Python 3",
   "language": "python",
   "name": "python3"
  },
  "language_info": {
   "codemirror_mode": {
    "name": "ipython",
    "version": 3
   },
   "file_extension": ".py",
   "mimetype": "text/x-python",
   "name": "python",
   "nbconvert_exporter": "python",
   "pygments_lexer": "ipython3",
   "version": "3.7.4"
  }
 },
 "nbformat": 4,
 "nbformat_minor": 2
}
