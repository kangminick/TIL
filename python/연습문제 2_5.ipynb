{
 "cells": [
  {
   "cell_type": "code",
   "execution_count": 2,
   "metadata": {},
   "outputs": [
    {
     "name": "stdout",
     "output_type": "stream",
     "text": [
      "481\n"
     ]
    }
   ],
   "source": [
    "scoreList = [20, 55, 67, 82, 45, 33, 90, 87, 100, 25]\n",
    "total = 0\n",
    "# 코드 작성 - List pop() 함수 이용\n",
    "while len(scoreList) > 0:\n",
    "    s = scoreList.pop()\n",
    "    if s >= 50:\n",
    "        total += s\n",
    "    else:\n",
    "        continue\n",
    "#print(s)\n",
    "#print(scoreList)\n",
    "\n",
    "print(total)"
   ]
  },
  {
   "cell_type": "code",
   "execution_count": 4,
   "metadata": {},
   "outputs": [
    {
     "name": "stdout",
     "output_type": "stream",
     "text": [
      "359\n"
     ]
    }
   ],
   "source": [
    "studentInfo = {\n",
    " 'a':33, 'b':55, 'c':67, 'd':82, 'e':45,\n",
    " 'f':33, 'g':90, 'h':87, 'i': 100, 'j':25\n",
    "}\n",
    "total = 0\n",
    "# 코드 작성 - Dictionary values(), List pop() 등 이용\n",
    "list2 = list(studentInfo.values())\n",
    "\n",
    "while len(list2) > 0:\n",
    "    score =  list2.pop()\n",
    "    if score >= 80:\n",
    "        total += score\n",
    "    else:\n",
    "        continue\n",
    "\n",
    "print(total)"
   ]
  }
 ],
 "metadata": {
  "kernelspec": {
   "display_name": "Python 3",
   "language": "python",
   "name": "python3"
  },
  "language_info": {
   "codemirror_mode": {
    "name": "ipython",
    "version": 3
   },
   "file_extension": ".py",
   "mimetype": "text/x-python",
   "name": "python",
   "nbconvert_exporter": "python",
   "pygments_lexer": "ipython3",
   "version": "3.7.4"
  }
 },
 "nbformat": 4,
 "nbformat_minor": 2
}
