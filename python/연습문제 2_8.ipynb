{
 "cells": [
  {
   "cell_type": "code",
   "execution_count": 5,
   "metadata": {},
   "outputs": [
    {
     "name": "stdout",
     "output_type": "stream",
     "text": [
      "3\n",
      "13\n",
      "23\n",
      "30\n",
      "31\n",
      "32\n",
      "33\n",
      "34\n",
      "35\n",
      "36\n",
      "37\n",
      "38\n",
      "39\n",
      "43\n",
      "53\n",
      "63\n",
      "73\n",
      "83\n",
      "93\n",
      "3을 포함하는 개수는 : \n",
      "19\n"
     ]
    }
   ],
   "source": [
    "total = 0\n",
    "\n",
    "for idx in range(1, 101):\n",
    "    num = str(idx)\n",
    "    if '3' in num:\n",
    "        num = int(num)\n",
    "        print(num)\n",
    "        total += 1\n",
    "    \n",
    "print('3을 포함하는 개수는 : ' )\n",
    "print(total)\n",
    "\n"
   ]
  }
 ],
 "metadata": {
  "kernelspec": {
   "display_name": "Python 3",
   "language": "python",
   "name": "python3"
  },
  "language_info": {
   "codemirror_mode": {
    "name": "ipython",
    "version": 3
   },
   "file_extension": ".py",
   "mimetype": "text/x-python",
   "name": "python",
   "nbconvert_exporter": "python",
   "pygments_lexer": "ipython3",
   "version": "3.7.4"
  }
 },
 "nbformat": 4,
 "nbformat_minor": 2
}
