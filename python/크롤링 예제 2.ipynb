{
 "cells": [
  {
   "cell_type": "code",
   "execution_count": 1,
   "metadata": {
    "scrolled": true
   },
   "outputs": [
    {
     "name": "stdout",
     "output_type": "stream",
     "text": [
      "원피스 1화~967화 최신편 18분만에 다보기 - 길이: 18:38\n",
      "[원피스분석] 해적왕 골드로저가 1년동안 사라졌던 이유?! 죽음을 앞둔 그의 마지막 계획! 그것은 바로... - 길이: 5:59\n",
      "[원피스 917화 애니] 충격적인 흔들흔들 열매의 힘! 2년후 사황이된 검은수염 마살 D 티치 등장! - 길이: 4:07\n",
      "2019년 원피스 최근스토리 8분만에 다보기 - 길이: 8:25\n",
      "[원피스 분석]  소름돋는 원피스의 정체!원피스 연재 레전드 967화 분석  (뇌피셜록) - 길이: 6:29\n",
      "[원피스 917화 명장면] 검은 수염의 현상금이 드디어 공개되다 ㄷ ㄷ - 길이: 2:35\n",
      "(원피스 명장면) 루피VS카타쿠리(원피스 루피 전투신!!!) - 길이: 15:09\n",
      "[원피스 915화 명장면] 사황 카이도우 vs 기어 4 루피 ㄷ ㄷ - 길이: 4:13\n",
      "[원피스] 의식이 없는 와중에도 패왕색 패기 내뿜는 루피 - 길이: 2:55\n",
      "[원피스 정보] 원피스 세계 모든 역사 총정리 2부 대해적 시대 이후 - 길이: 7:40\n",
      "[원피스 정보] 악마의 열매 중 줘도 갖기 싫은 쓰레기 열매 TOP 5 - 길이: 5:12\n",
      "[기승전모] '원피스'의 과거와 현재에 대해 알아보자. - 길이: 22:11\n",
      "원피스 료쿠규와 함께 괴물로 평가 받는 후지토라의 강함에 대해 - 길이: 3:55\n",
      "원피스 조로 와노쿠니 전투씬 모음 - 길이: 4:14\n",
      "[원피스 917화 명장면] 겟코 모리아의 뉴스를 본 미호크&페로나의 반응 ㅋㅋㅋ - 길이: 3:51\n",
      "[원피스] 모두 후지토라에게 사기 치는 와중에 진실을 말해준 루피 - 길이: 3:40\n",
      "원피스 더빙)목욕하는 핸콕과 우연히 만난 루피 +전투시작 - 길이: 3:50\n",
      "[원피스] 동료 구하러 왔다가 자기 송장 되게 생긴 겟코 모리아 - 길이: 3:43\n",
      "[원피스] 로저해적단 최강간부, 더글라스 불릿의 과거 - 길이: 4:25\n",
      "원피스 이제는 검은 수염과 손을 잡은 아오키지.. 그의 강함은? - 길이: 3:31\n"
     ]
    }
   ],
   "source": [
    "#유튜브 검색 결과 가져오기\n",
    "import requests\n",
    "from bs4 import BeautifulSoup as bs\n",
    "address = 'https://www.youtube.com/results?search_query=원피스'\n",
    "res = requests.get(address)\n",
    "res.encoding = None\n",
    "\n",
    "\n",
    "result = res.text\n",
    "parse = bs(result, 'html.parser')\n",
    "h3_list = parse.findAll('h3', {'class':'yt-lockup-title'})\n",
    "for a in h3_list:\n",
    "    print(a.getText())"
   ]
  },
  {
   "cell_type": "code",
   "execution_count": 3,
   "metadata": {},
   "outputs": [
    {
     "name": "stdout",
     "output_type": "stream",
     "text": [
      "닥터 두리틀\n",
      "백두산\n",
      "스타워즈: 라이즈 오브 스카이워커\n",
      "천문: 하늘에 묻는다\n",
      "미드웨이\n",
      "해치지않아\n",
      "시동\n",
      "나쁜 녀석들 : 포에버\n",
      "남산의 부장들\n",
      "겨울왕국 2\n",
      "포드 V 페라리\n",
      "나이브스 아웃\n",
      "히트맨\n",
      "지푸라기라도 잡고 싶은 짐승들\n",
      "터미네이터: 다크 페이트\n",
      "기생충\n",
      "미스터 주: 사라진 VIP\n",
      "카운트다운\n",
      "극장판 원피스 스탬피드\n",
      "비스티걸스\n",
      "트레져 헌터: 비밀의 책\n",
      "나이트 헌터\n",
      "갱\n",
      "21 브릿지: 테러 셧다운\n",
      "피아니스트의 전설\n",
      "청춘빌라 살인사건\n",
      "신비아파트 극장판 하늘도깨비 대 요르문간드\n",
      "울지마 톤즈 2 : 슈크란 바바\n",
      "타오르는 여인의 초상\n",
      "콰이어트 플레이스 2\n",
      "라스트 선라이즈\n",
      "여곡성\n",
      "1917\n",
      "콰이어트 플레이스\n",
      "눈의 여왕4\n",
      "프릭스\n",
      "인셉션\n",
      "스케치\n",
      "마녀\n",
      "6 언더그라운드\n",
      "벌룬\n",
      "타발루가와 얼음공주\n",
      "로그 원: 스타워즈 스토리\n",
      "엄마 바람피게하기\n",
      "게이트키퍼 : 또 다른 세계\n",
      "스파이즈\n",
      "아이리시맨\n",
      "스타워즈: 라스트 제다이\n",
      "신의 은총으로\n",
      "차일드 인 타임\n"
     ]
    }
   ],
   "source": [
    "import requests\n",
    "from bs4 import BeautifulSoup as bs\n",
    "address = 'https://movie.naver.com/movie/sdb/rank/rmovie.nhn'\n",
    "res = requests.get(address)\n",
    "res.encoding = None\n",
    "\n",
    "parse = bs(res.text, 'html.parser')\n",
    "a_list = parse.select('.title > .tit3 > a')\n",
    "for a in a_list:\n",
    "    print(a.getText())\n"
   ]
  }
 ],
 "metadata": {
  "kernelspec": {
   "display_name": "Python 3",
   "language": "python",
   "name": "python3"
  },
  "language_info": {
   "codemirror_mode": {
    "name": "ipython",
    "version": 3
   },
   "file_extension": ".py",
   "mimetype": "text/x-python",
   "name": "python",
   "nbconvert_exporter": "python",
   "pygments_lexer": "ipython3",
   "version": "3.7.4"
  }
 },
 "nbformat": 4,
 "nbformat_minor": 2
}
