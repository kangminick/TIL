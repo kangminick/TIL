{
 "cells": [
  {
   "cell_type": "code",
   "execution_count": 1,
   "metadata": {},
   "outputs": [
    {
     "name": "stdout",
     "output_type": "stream",
     "text": [
      "1번 반복\n",
      "2번 반복\n",
      "3번 반복\n",
      "4번 반복\n",
      "5번 반복\n",
      "6번 반복\n",
      "7번 반복\n",
      "8번 반복\n",
      "9번 반복\n",
      "10번 반복\n",
      "10번 반복 후 종료\n"
     ]
    }
   ],
   "source": [
    "count = 0\n",
    "while count < 10:\n",
    " count = count + 1\n",
    " print('%d번 반복' % count)\n",
    "print('%d번 반복 후 종료' % count)"
   ]
  },
  {
   "cell_type": "code",
   "execution_count": 6,
   "metadata": {},
   "outputs": [
    {
     "name": "stdout",
     "output_type": "stream",
     "text": [
      "추출된 숫자 : 9\n",
      "추출된 숫자 : 2\n",
      "추출된 숫자 : 4\n",
      "추출된 숫자 : 4\n",
      "추출된 숫자 : 6\n",
      "추출된 숫자 : 5\n"
     ]
    }
   ],
   "source": [
    "import random\n",
    "while True:\n",
    "    number = random.randint(1, 10) # 1~10 까지중 랜덤\n",
    "    print('추출된 숫자 : %d' % number)\n",
    "    if number == 5: break"
   ]
  },
  {
   "cell_type": "code",
   "execution_count": 7,
   "metadata": {
    "scrolled": true
   },
   "outputs": [
    {
     "name": "stdout",
     "output_type": "stream",
     "text": [
      "==========\n",
      "1. 입력\n",
      "2. 출력\n",
      "3. 종료\n",
      "==========\n",
      "메뉴를 선택해주세요. > 3\n",
      "종료되었습니다.\n"
     ]
    }
   ],
   "source": [
    "while True:\n",
    " print('=' * 10)\n",
    " print('1. 입력')\n",
    " print('2. 출력')\n",
    " print('3. 종료')\n",
    " print('=' * 10)\n",
    " s = input('메뉴를 선택해주세요. > ')\n",
    " if s == '3': break\n",
    "print('종료되었습니다.')"
   ]
  },
  {
   "cell_type": "code",
   "execution_count": 9,
   "metadata": {},
   "outputs": [
    {
     "name": "stdout",
     "output_type": "stream",
     "text": [
      "1\n",
      "3\n",
      "5\n",
      "7\n",
      "9\n"
     ]
    }
   ],
   "source": [
    "num = 0\n",
    "while num < 10:\n",
    " num = num + 1\n",
    " if num % 2 == 0:continue # 짝수 (2로 나누어서 떨어지는 경우) 반복문의 맨 위로 이동\n",
    " print(num) # 홀수만 출력\n"
   ]
  }
 ],
 "metadata": {
  "kernelspec": {
   "display_name": "Python 3",
   "language": "python",
   "name": "python3"
  },
  "language_info": {
   "codemirror_mode": {
    "name": "ipython",
    "version": 3
   },
   "file_extension": ".py",
   "mimetype": "text/x-python",
   "name": "python",
   "nbconvert_exporter": "python",
   "pygments_lexer": "ipython3",
   "version": "3.7.4"
  }
 },
 "nbformat": 4,
 "nbformat_minor": 2
}
