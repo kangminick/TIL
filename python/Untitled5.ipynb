{
 "cells": [
  {
   "cell_type": "code",
   "execution_count": 5,
   "metadata": {},
   "outputs": [
    {
     "name": "stdout",
     "output_type": "stream",
     "text": [
      "81\n",
      "38\n"
     ]
    }
   ],
   "source": [
    "def diff_sum(a, b, c):\n",
    "    abc = a + b + c\n",
    "    aabbcc = a**2 + b**2 + c**2\n",
    "    return aabbcc - abc\n",
    "\n",
    "print(diff_sum(3,4,5))"
   ]
  },
  {
   "cell_type": "code",
   "execution_count": 75,
   "metadata": {},
   "outputs": [
    {
     "name": "stdout",
     "output_type": "stream",
     "text": [
      "0\n",
      "0\n",
      "1\n",
      "1\n",
      "2\n",
      "4\n",
      "3\n",
      "11\n",
      "4\n",
      "26\n",
      "26\n"
     ]
    }
   ],
   "source": [
    "def get_sequence(n): \n",
    "    i = 0 \n",
    "    total = 0 \n",
    "    for i in range(n+1): \n",
    "        total += i + total \n",
    "        print(i) \n",
    "        print(total)\n",
    "\n",
    "    return total\n",
    "\n",
    "print(get_sequence(4))"
   ]
  },
  {
   "cell_type": "markdown",
   "metadata": {},
   "source": [
    "def get_sequence(n):\n",
    "    i = 0\n",
    "    total = 0\n",
    "    for i in range(n+1):\n",
    "        total += i + total\n",
    "        print(i)\n",
    "        print(total)\n",
    "\n",
    "    return total\n",
    "    \n",
    "    \n",
    "print(get_sequence(4))"
   ]
  },
  {
   "cell_type": "code",
   "execution_count": 47,
   "metadata": {},
   "outputs": [
    {
     "name": "stdout",
     "output_type": "stream",
     "text": [
      "de\n"
     ]
    }
   ],
   "source": [
    "def get_mid_char(s):\n",
    "        if len(s) % 2 == 1:\n",
    "            #가운데 한글자 뽑기\n",
    "            idx = len(s)//2\n",
    "            return s[idx]\n",
    "        else:\n",
    "            #가운데 두글자 뽑기\n",
    "            idx = len(s)//2-1\n",
    "            return s[idx:idx+2]\n",
    "print(get_mid_char(\"abcdefgh\"))"
   ]
  },
  {
   "cell_type": "code",
   "execution_count": 16,
   "metadata": {},
   "outputs": [
    {
     "name": "stdout",
     "output_type": "stream",
     "text": [
      "수박수박수박수박수\n"
     ]
    }
   ],
   "source": [
    "def print_str(w):\n",
    "    waterMelon = ''\n",
    "    i=0\n",
    "    while i != w:\n",
    "        i += 1 \n",
    "        if i % 2 == 1:\n",
    "            waterMelon += '수'\n",
    "        else:\n",
    "            waterMelon += '박'\n",
    "        \n",
    "    return waterMelon\n",
    "\n",
    "print(print_str(9))"
   ]
  },
  {
   "cell_type": "code",
   "execution_count": 43,
   "metadata": {},
   "outputs": [
    {
     "name": "stdout",
     "output_type": "stream",
     "text": [
      "5\n"
     ]
    }
   ],
   "source": [
    "def get_total(each_num):\n",
    "    itos = str(each_num)\n",
    "    total = 0\n",
    "    \n",
    "    for i in range(0, len(itos)):\n",
    "        total += int(itos[i])\n",
    "    \n",
    "    return total\n",
    "\n",
    "print(get_total(23))  "
   ]
  },
  {
   "cell_type": "code",
   "execution_count": null,
   "metadata": {},
   "outputs": [],
   "source": []
  }
 ],
 "metadata": {
  "kernelspec": {
   "display_name": "Python 3",
   "language": "python",
   "name": "python3"
  },
  "language_info": {
   "codemirror_mode": {
    "name": "ipython",
    "version": 3
   },
   "file_extension": ".py",
   "mimetype": "text/x-python",
   "name": "python",
   "nbconvert_exporter": "python",
   "pygments_lexer": "ipython3",
   "version": "3.7.4"
  }
 },
 "nbformat": 4,
 "nbformat_minor": 2
}
