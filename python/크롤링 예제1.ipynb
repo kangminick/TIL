{
 "cells": [
  {
   "cell_type": "code",
   "execution_count": 12,
   "metadata": {},
   "outputs": [
    {
     "name": "stdout",
     "output_type": "stream",
     "text": [
      "1\n",
      "4\n",
      "10\n",
      "12\n",
      "28\n",
      "45\n",
      "26\n"
     ]
    }
   ],
   "source": [
    "#Crawling 연습문제 (웹페이지 정보가져오기)\n",
    "\n",
    "import requests\n",
    "address = 'http://ggoreb.com/python/html/number.html'\n",
    "res = requests.get(address)\n",
    "res.encoding = None\n",
    "\n",
    "result = res.text\n",
    "psIdx = result.find('class=\"number\"')\n",
    "peIdx = result.find('</p>', psIdx)\n",
    "p = result[psIdx:peIdx]\n",
    "sIdx = eIdx = 0\n",
    "\n",
    "while True:\n",
    "    sIdx = p.find('alt=\"', eIdx)\n",
    "    if sIdx == -1:\n",
    "        break\n",
    "    eIdx = p.find('\"', sIdx + 5)\n",
    "    num = p[sIdx + 5:eIdx]\n",
    "    print(num)"
   ]
  },
  {
   "cell_type": "code",
   "execution_count": 19,
   "metadata": {},
   "outputs": [
    {
     "name": "stdout",
     "output_type": "stream",
     "text": [
      "<!DOCTYPE html>\n",
      "<html>\n",
      "<head>\n",
      "<meta charset=\"utf-8\">\n",
      "<title>Insert title here</title>\n",
      "</head>\n",
      "<body>\n",
      "\t<div class=\"info\">\n",
      "\t\t<img src=\"/images/luffy.jpg\" width=\"10%\" title=\"루피\">\n",
      "\t\t<img src=\"/images/nami.jpg\" width=\"10%\" title=\"나미\">\n",
      "\t\t<img src=\"/images/robin.jpg\" width=\"10%\" title=\"로빈\">\n",
      "\t\t<img src=\"/images/zoro.jpg\" width=\"10%\" title=\"조로\">\n",
      "\t</div>\n",
      "</body>\n",
      "</html>\n",
      "['/images/luffy.jpg', '/images/nami.jpg', '/images/robin.jpg', '/images/zoro.jpg']\n",
      "['루피', '나미', '로빈', '조로']\n"
     ]
    }
   ],
   "source": [
    "import requests\n",
    "\n",
    "address = 'http://ggoreb.com/python/html/attribute.html'\n",
    "res = requests.get(address)\n",
    "res.encoding = None\n",
    "\n",
    "result = res.text\n",
    "print(result)\n",
    "\n",
    "import re\n",
    "\n",
    "regex = 'src=\"([/a-zA-Z0-9]+[.]\\w+)'\n",
    "pattern = re.compile(regex)\n",
    "src_list = pattern.findall(result)\n",
    "print(src_list)\n",
    "\n",
    "regex = 'title=\"(\\w+)'\n",
    "pattern = re.compile(regex)\n",
    "title_list = pattern.findall(result)\n",
    "print(title_list)"
   ]
  }
 ],
 "metadata": {
  "kernelspec": {
   "display_name": "Python 3",
   "language": "python",
   "name": "python3"
  },
  "language_info": {
   "codemirror_mode": {
    "name": "ipython",
    "version": 3
   },
   "file_extension": ".py",
   "mimetype": "text/x-python",
   "name": "python",
   "nbconvert_exporter": "python",
   "pygments_lexer": "ipython3",
   "version": "3.7.4"
  }
 },
 "nbformat": 4,
 "nbformat_minor": 2
}
