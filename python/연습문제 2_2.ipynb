{
 "cells": [
  {
   "cell_type": "code",
   "execution_count": 1,
   "metadata": {},
   "outputs": [
    {
     "name": "stdout",
     "output_type": "stream",
     "text": [
      "졸업\n"
     ]
    }
   ],
   "source": [
    "subjectList = ['운영체제', '데이터베이스', '객체지향언어']\n",
    "average = 60\n",
    "\n",
    "if len(subjectList) >= 3 and average >= 70:\n",
    "    print('학위 취득')\n",
    "elif len(subjectList) >= 3 or average >= 70:\n",
    "    print('졸업')"
   ]
  },
  {
   "cell_type": "code",
   "execution_count": 3,
   "metadata": {},
   "outputs": [
    {
     "name": "stdout",
     "output_type": "stream",
     "text": [
      "이수 완료\n"
     ]
    }
   ],
   "source": [
    "subject = {'자료구조':80, '알고리즘':60, '네트워크':90} #dic\n",
    "\n",
    "if '자료구조' in subject:\n",
    "    s = subject['자료구조'] #대괄호 안에 쓰면 값이 나옴\n",
    "    if s >= 60:\n",
    "        print('이수 완료')\n",
    "    "
   ]
  }
 ],
 "metadata": {
  "kernelspec": {
   "display_name": "Python 3",
   "language": "python",
   "name": "python3"
  },
  "language_info": {
   "codemirror_mode": {
    "name": "ipython",
    "version": 3
   },
   "file_extension": ".py",
   "mimetype": "text/x-python",
   "name": "python",
   "nbconvert_exporter": "python",
   "pygments_lexer": "ipython3",
   "version": "3.7.4"
  }
 },
 "nbformat": 4,
 "nbformat_minor": 2
}
