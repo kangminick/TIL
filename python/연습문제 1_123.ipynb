{
 "cells": [
  {
   "cell_type": "code",
   "execution_count": 5,
   "metadata": {},
   "outputs": [
    {
     "name": "stdout",
     "output_type": "stream",
     "text": [
      "총점 403점\n",
      "평균 80.6 점\n"
     ]
    }
   ],
   "source": [
    "# 1. 5개 과목의 점수 합계와 평균 구하기.\n",
    "sum = 80 + 66 + 73 + 90 + 94\n",
    "ave = sum / 5\n",
    "print('총점 ' + str(sum) + '점')\n",
    "print('평균', str(ave),  '점')"
   ]
  },
  {
   "cell_type": "code",
   "execution_count": 11,
   "metadata": {},
   "outputs": [
    {
     "name": "stdout",
     "output_type": "stream",
     "text": [
      "몫 4\n",
      "나머지 3\n",
      "255\n",
      "27\n"
     ]
    }
   ],
   "source": [
    "# 2-1. 23을 5로 나누었을 때의 몫과 나머지 구하기\n",
    "\n",
    "print('몫', 23//5)\n",
    "print('나머지', 23%5)\n",
    "\n",
    "# 2-2. 16진수 FF의 10진수 값 구하기\n",
    "\n",
    "print(0xFF)\n",
    "\n",
    "# 2-3. 8진수 33의 10진수 값 구하기\n",
    "\n",
    "print(0o33)"
   ]
  },
  {
   "cell_type": "code",
   "execution_count": 16,
   "metadata": {},
   "outputs": [
    {
     "name": "stdout",
     "output_type": "stream",
     "text": [
      "\"Life\" is too short, You need 'Python'\n",
      "2007 03 27\n",
      "       python       \n"
     ]
    }
   ],
   "source": [
    "# 3-1. \"Life\" is too short, You need 'Python' 출력하기\n",
    "\n",
    "print('\"Life\" is too short, You need \\'Python\\'')\n",
    "\n",
    "# 3-2 문자열 Slicing\n",
    "\n",
    "date = '2007-03-27'\n",
    "\n",
    "print(date[0:4], date[5:7], date[-2:])\n",
    "\n",
    "# 3-3 문자열 앞뒤 공백 추가 (format함수) - 총 길이 20\n",
    "\n",
    "s = 'python'\n",
    "\n",
    "print('{0:^20}'.format(s))"
   ]
  }
 ],
 "metadata": {
  "kernelspec": {
   "display_name": "Python 3",
   "language": "python",
   "name": "python3"
  },
  "language_info": {
   "codemirror_mode": {
    "name": "ipython",
    "version": 3
   },
   "file_extension": ".py",
   "mimetype": "text/x-python",
   "name": "python",
   "nbconvert_exporter": "python",
   "pygments_lexer": "ipython3",
   "version": "3.7.4"
  }
 },
 "nbformat": 4,
 "nbformat_minor": 2
}
