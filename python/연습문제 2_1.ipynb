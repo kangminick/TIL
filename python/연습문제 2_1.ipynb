{
 "cells": [
  {
   "cell_type": "code",
   "execution_count": 7,
   "metadata": {},
   "outputs": [
    {
     "name": "stdout",
     "output_type": "stream",
     "text": [
      "계속 근무\n"
     ]
    }
   ],
   "source": [
    "workingTime = 7 # 근무시간\n",
    "\n",
    "if workingTime >= 8:\n",
    "    print('퇴근')\n",
    "else:\n",
    "    print('계속 근무')"
   ]
  },
  {
   "cell_type": "code",
   "execution_count": 24,
   "metadata": {},
   "outputs": [
    {
     "name": "stdout",
     "output_type": "stream",
     "text": [
      "C학점\n"
     ]
    }
   ],
   "source": [
    "score = 70 #시험점수\n",
    "\n",
    "if score >= 90:\n",
    "    print('A학점')\n",
    "elif score >= 70:\n",
    "    print('C학점')\n",
    "else:\n",
    "    print('F학점')"
   ]
  },
  {
   "cell_type": "code",
   "execution_count": 25,
   "metadata": {},
   "outputs": [
    {
     "name": "stdout",
     "output_type": "stream",
     "text": [
      "그냥 결제\n"
     ]
    }
   ],
   "source": [
    "cardList = ['우리카드', '신한카드', 'KB카드']\n",
    "\n",
    "if '하나카드' in cardList:\n",
    "    print('10% 할인 후 결제')\n",
    "else:\n",
    "    print('그냥 결제')"
   ]
  }
 ],
 "metadata": {
  "kernelspec": {
   "display_name": "Python 3",
   "language": "python",
   "name": "python3"
  },
  "language_info": {
   "codemirror_mode": {
    "name": "ipython",
    "version": 3
   },
   "file_extension": ".py",
   "mimetype": "text/x-python",
   "name": "python",
   "nbconvert_exporter": "python",
   "pygments_lexer": "ipython3",
   "version": "3.7.4"
  }
 },
 "nbformat": 4,
 "nbformat_minor": 2
}
